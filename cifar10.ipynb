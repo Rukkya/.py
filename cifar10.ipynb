{
  "nbformat": 4,
  "nbformat_minor": 0,
  "metadata": {
    "colab": {
      "provenance": [],
      "authorship_tag": "ABX9TyPvdrPPN0RdYUjfsinHhbVF",
      "include_colab_link": true
    },
    "kernelspec": {
      "name": "python3",
      "display_name": "Python 3"
    },
    "language_info": {
      "name": "python"
    }
  },
  "cells": [
    {
      "cell_type": "markdown",
      "metadata": {
        "id": "view-in-github",
        "colab_type": "text"
      },
      "source": [
        "<a href=\"https://colab.research.google.com/github/Rukkya/.py/blob/main/cifar10.ipynb\" target=\"_parent\"><img src=\"https://colab.research.google.com/assets/colab-badge.svg\" alt=\"Open In Colab\"/></a>"
      ]
    },
    {
      "cell_type": "code",
      "execution_count": 1,
      "metadata": {
        "id": "bAlpFTSofKnD"
      },
      "outputs": [],
      "source": [
        "\n",
        "\n",
        "import torch\n",
        "import torch.nn as nn\n",
        "import torch.optim as optim\n",
        "import numpy as np\n",
        "import matplotlib.pyplot as plt\n",
        "from torchvision import datasets, transforms\n",
        "from torch.utils.data import DataLoader\n"
      ]
    },
    {
      "cell_type": "code",
      "source": [
        "transform = transforms.Compose([\n",
        "    transforms.ToTensor(),\n",
        "    transforms.Normalize((0.5, 0.5, 0.5), (0.5, 0.5, 0.5))\n",
        "])\n",
        "\n",
        "\n",
        "train_data = datasets.CIFAR10(root='data', train=True, download=True, transform=transform)\n",
        "train_loader = DataLoader(train_data, batch_size=64, shuffle=True)\n"
      ],
      "metadata": {
        "colab": {
          "base_uri": "https://localhost:8080/"
        },
        "id": "7pS0XopjfQzx",
        "outputId": "79d1540b-b059-46ef-c2fb-7c39c496a02b"
      },
      "execution_count": 2,
      "outputs": [
        {
          "output_type": "stream",
          "name": "stdout",
          "text": [
            "Downloading https://www.cs.toronto.edu/~kriz/cifar-10-python.tar.gz to data/cifar-10-python.tar.gz\n"
          ]
        },
        {
          "output_type": "stream",
          "name": "stderr",
          "text": [
            "100%|██████████| 170M/170M [00:02<00:00, 57.8MB/s]\n"
          ]
        },
        {
          "output_type": "stream",
          "name": "stdout",
          "text": [
            "Extracting data/cifar-10-python.tar.gz to data\n"
          ]
        }
      ]
    },
    {
      "cell_type": "code",
      "source": [
        "T = 1000\n",
        "betas = torch.linspace(0.0001, 0.02, T)\n",
        "alphas = 1 - betas\n",
        "alpha_bars = torch.cumprod(alphas, dim=0)\n",
        "\n",
        "def add_noise(x0, t):\n",
        "    noise = torch.randn_like(x0)\n",
        "    sqrt_alpha_bar = torch.sqrt(alpha_bars[t])[:, None, None, None]\n",
        "    sqrt_one_minus_alpha_bar = torch.sqrt(1 - alpha_bars[t])[:, None, None, None]\n",
        "    return sqrt_alpha_bar * x0 + sqrt_one_minus_alpha_bar * noise, noise\n",
        "\n"
      ],
      "metadata": {
        "id": "Ra4NKZY0fVpP"
      },
      "execution_count": 5,
      "outputs": []
    },
    {
      "cell_type": "code",
      "source": [
        "class UNet(nn.Module):\n",
        "    def __init__(self):\n",
        "        super(UNet, self).__init__()\n",
        "        self.enc1 = nn.Sequential(nn.Conv2d(3, 64, kernel_size=3, padding=1), nn.ReLU())\n",
        "        self.enc2 = nn.Sequential(nn.Conv2d(64, 128, kernel_size=3, padding=1), nn.ReLU(), nn.MaxPool2d(2))\n",
        "        self.bottleneck = nn.Sequential(nn.Conv2d(128, 256, kernel_size=3, padding=1), nn.ReLU())\n",
        "        self.upconv1 = nn.Sequential(\n",
        "            nn.ConvTranspose2d(256, 64, kernel_size=2, stride=2),\n",
        "            nn.Conv2d(64, 128, kernel_size=1))\n",
        "        self.dec1 = nn.Sequential(nn.Conv2d(128, 128, kernel_size=3, padding=1), nn.ReLU())\n",
        "        self.upconv2 = nn.ConvTranspose2d(128, 64, kernel_size=2, stride=2)\n",
        "        self.dec2 = nn.Sequential(nn.Conv2d(64, 64, kernel_size=3, padding=1), nn.ReLU())\n",
        "        self.out_conv = nn.Conv2d(64, 3, kernel_size=3, padding=1)\n",
        "\n",
        "    def forward(self, x, t):\n",
        "\n",
        "        x1 = self.enc1(x)\n",
        "        x2 = self.enc2(x1)\n",
        "        x3 = self.bottleneck(x2)\n",
        "        x4 = self.upconv1(x3)\n",
        "        x4 = self.dec1(x4 + self.upconv1(x3))\n",
        "        x5 = self.dec2(self.upconv2(x4))\n",
        "\n",
        "\n",
        "        out = self.out_conv(x5)\n",
        "        return out"
      ],
      "metadata": {
        "id": "KtUqK8MQfnhM"
      },
      "execution_count": 7,
      "outputs": []
    },
    {
      "cell_type": "code",
      "source": [
        "model = UNet()\n",
        "optimizer = optim.Adam(model.parameters(), lr=1e-4)\n",
        "criterion = nn.MSELoss()\n",
        "\n",
        "def train(model, dataloader, optimizer, criterion, epochs=10):\n",
        "    for epoch in range(epochs):\n",
        "        for x0, _ in dataloader:\n",
        "            t = torch.randint(0, T, (x0.size(0),), device=x0.device)\n",
        "            noisy_images, noise = add_noise(x0, t)\n",
        "            pred_noise = model(noisy_images, t)\n",
        "\n",
        "    if pred_noise.shape[1] != noise.shape[1]:\n",
        "        print(f\"Warning: Mismatch in channel dimensions: pred_noise - {pred_noise.shape}, noise - {noise.shape}\")\n",
        "    loss = criterion(pred_noise, noise)\n",
        "    optimizer.zero_grad()\n",
        "    loss.backward()\n",
        "    optimizer.step()\n",
        "    print(f\"Epoch {epoch+1}/{epochs}, Loss: {loss.item()}\")\n",
        "\n",
        "train(model, train_loader, optimizer, criterion)\n"
      ],
      "metadata": {
        "id": "I2U2EoaRgAj3"
      },
      "execution_count": null,
      "outputs": []
    },
    {
      "cell_type": "code",
      "source": [
        "def sample(model, T):\n",
        "    with torch.no_grad():\n",
        "        x = torch.randn(1, 3, 32, 32)\n",
        "        for t in reversed(range(T)):\n",
        "            pred_noise = model(x, torch.tensor([t]))\n",
        "            beta = betas[t]\n",
        "            alpha_bar = alpha_bars[t]\n",
        "            if t > 0:\n",
        "                noise = torch.randn_like(x)\n",
        "                x = (1 / torch.sqrt(1 - beta)) * (x - beta * pred_noise / torch.sqrt(1 - alpha_bar)) + torch.sqrt(beta) * noise\n",
        "            else:\n",
        "                x = (1 / torch.sqrt(1 - beta)) * (x - beta * pred_noise / torch.sqrt(1 - alpha_bar))\n",
        "    return x\n",
        "\n",
        "sample_image = sample(model, T)\n",
        "plt.imshow((sample_image[0].permute(1, 2, 0) + 1) / 2)\n",
        "plt.show()\n"
      ],
      "metadata": {
        "id": "wnSXVAKlgkYr"
      },
      "execution_count": null,
      "outputs": []
    },
    {
      "cell_type": "code",
      "source": [
        "def plot_images(images, title):\n",
        "    fig, axs = plt.subplots(1, len(images), figsize=(12, 4))\n",
        "    for i, img in enumerate(images):\n",
        "        axs[i].imshow((img.permute(1, 2, 0) + 1) / 2)\n",
        "        axs[i].axis('off')\n",
        "    plt.suptitle(title)\n",
        "    plt.show()\n",
        "\n",
        "generated_images = [sample(model, T) for _ in range(5)]\n",
        "plot_images(generated_images, \"Generated Images\")\n"
      ],
      "metadata": {
        "id": "jV4ETtvigpIe"
      },
      "execution_count": null,
      "outputs": []
    }
  ]
}