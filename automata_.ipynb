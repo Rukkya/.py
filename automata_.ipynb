{
  "nbformat": 4,
  "nbformat_minor": 0,
  "metadata": {
    "colab": {
      "provenance": [],
      "authorship_tag": "ABX9TyNoYTcLob5PfO4IbBXWdA+L",
      "include_colab_link": true
    },
    "kernelspec": {
      "name": "python3",
      "display_name": "Python 3"
    },
    "language_info": {
      "name": "python"
    }
  },
  "cells": [
    {
      "cell_type": "markdown",
      "metadata": {
        "id": "view-in-github",
        "colab_type": "text"
      },
      "source": [
        "<a href=\"https://colab.research.google.com/github/Rukkya/.py/blob/main/automata_.ipynb\" target=\"_parent\"><img src=\"https://colab.research.google.com/assets/colab-badge.svg\" alt=\"Open In Colab\"/></a>"
      ]
    },
    {
      "cell_type": "code",
      "execution_count": null,
      "metadata": {
        "id": "xy17DaIAfcDG"
      },
      "outputs": [],
      "source": [
        "class NFA:\n",
        "    def __init__(self, num_states, transitions, start_state, accept_states):\n",
        "        self.num_states = num_states\n",
        "        self.transitions = transitions  # Format: {state: {symbol: [next_states]}}\n",
        "        self.start_state = start_state\n",
        "        self.accept_states = accept_states\n",
        "\n",
        "    def epsilon_closure(self, states):\n",
        "        closure = set(states)\n",
        "        stack = list(states)\n",
        "        while stack:\n",
        "            state = stack.pop()\n",
        "            if '' in self.transitions.get(state, {}):  # Epsilon transitions\n",
        "                for next_state in self.transitions[state]['']:\n",
        "                    if next_state not in closure:\n",
        "                        closure.add(next_state)\n",
        "                        stack.append(next_state)\n",
        "        return closure\n",
        "\n",
        "\n",
        "class DFA:\n",
        "    def __init__(self):\n",
        "        self.states = set()  # States are sets of NFA states (frozensets)\n",
        "        self.transitions = {}  # Format: {frozenset(states): {symbol: frozenset(next_states)}}\n",
        "        self.start_state = None\n",
        "        self.accept_states = set()\n",
        "\n",
        "    def add_transition(self, from_state, symbol, to_state):\n",
        "        if from_state not in self.transitions:\n",
        "            self.transitions[from_state] = {}\n",
        "        self.transitions[from_state][symbol] = to_state\n",
        "\n",
        "\n",
        "def nfa_to_dfa(nfa):\n",
        "    dfa = DFA()\n",
        "    initial_closure = frozenset(nfa.epsilon_closure({nfa.start_state}))\n",
        "    dfa.start_state = initial_closure\n",
        "    dfa.states.add(initial_closure)\n",
        "    unprocessed_states = [initial_closure]\n",
        "\n",
        "    while unprocessed_states:\n",
        "        current_state = unprocessed_states.pop(0)\n",
        "        # Iterate over all input symbols (excluding epsilon)\n",
        "        for symbol in {s for trans in nfa.transitions.values() for s in trans if s != ''}:\n",
        "            next_states = set()\n",
        "            for nfa_state in current_state:\n",
        "                if symbol in nfa.transitions.get(nfa_state, {}):\n",
        "                    next_states.update(nfa.transitions[nfa_state][symbol])\n",
        "            if next_states:\n",
        "                closure = frozenset(nfa.epsilon_closure(next_states))\n",
        "                if closure not in dfa.states:\n",
        "                    dfa.states.add(closure)\n",
        "                    unprocessed_states.append(closure)\n",
        "                dfa.add_transition(current_state, symbol, closure)\n",
        "\n",
        "                if any(state in nfa.accept_states for state in closure):\n",
        "                    dfa.accept_states.add(closure)\n",
        "\n",
        "    return dfa\n",
        "\n",
        "\n",
        "# Example NFA Definition\n",
        "nfa = NFA(\n",
        "    num_states=3,\n",
        "    transitions={\n",
        "        0: {'a': [0, 1], 'b': [0]},\n",
        "        1: {'b': [2]},\n",
        "        2: {}\n",
        "    },\n",
        "    start_state=0,\n",
        "    accept_states={2}\n",
        ")\n",
        "\n",
        "# Convert NFA to DFA\n",
        "dfa = nfa_to_dfa(nfa)\n",
        "\n",
        "# Print DFA States and Transitions\n",
        "print(\"DFA States:\")\n",
        "for state in dfa.states:\n",
        "    print(state)\n",
        "\n",
        "print(\"\\nDFA Transitions:\")\n",
        "for from_state, transitions in dfa.transitions.items():\n",
        "    for symbol, to_state in transitions.items():\n",
        "        print(f\"{from_state} --{symbol}--> {to_state}\")\n",
        "\n",
        "print(\"\\nDFA Start State:\", dfa.start_state)\n",
        "print(\"DFA Accept States:\", dfa.accept_states)\n"
      ]
    }
  ]
}